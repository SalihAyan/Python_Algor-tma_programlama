{
  "nbformat": 4,
  "nbformat_minor": 0,
  "metadata": {
    "colab": {
      "provenance": []
    },
    "kernelspec": {
      "name": "python3",
      "display_name": "Python 3"
    },
    "language_info": {
      "name": "python"
    }
  },
  "cells": [
    {
      "cell_type": "code",
      "execution_count": null,
      "metadata": {
        "id": "wJRtInR5JGOa"
      },
      "outputs": [],
      "source": [
        "print(\"Merhaba, VERIYAPILARI ve Algoritmalar _ Python - D2\")\n"
      ]
    },
    {
      "cell_type": "code",
      "source": [
        "import sys #import python programlama dilinde kütüphane eklemeye yarayan bir kod blogudur.\n",
        "print(sys.version)"
      ],
      "metadata": {
        "id": "L8MTnDhEYGcC"
      },
      "execution_count": null,
      "outputs": []
    },
    {
      "cell_type": "code",
      "source": [
        "from google.colab import drive\n",
        "drive.mount('/content/drive')"
      ],
      "metadata": {
        "colab": {
          "base_uri": "https://localhost:8080/"
        },
        "id": "z-SLnOxwYGvI",
        "outputId": "a0d0a2c1-6a3d-44e6-e7b1-d58a96e45831"
      },
      "execution_count": null,
      "outputs": [
        {
          "output_type": "stream",
          "name": "stdout",
          "text": [
            "Mounted at /content/drive\n"
          ]
        }
      ]
    },
    {
      "cell_type": "code",
      "source": [
        "import os\n",
        "os.chdir('/content/drive/My Drive/ALGORITMALAR_MYO')\n",
        "!pwd # ilk kod blogunun cıktısını bize veren bir kod blogudur."
      ],
      "metadata": {
        "colab": {
          "base_uri": "https://localhost:8080/"
        },
        "id": "qRL3JtucYLYI",
        "outputId": "61962440-581e-4e44-e865-1a69794ddc45"
      },
      "execution_count": null,
      "outputs": [
        {
          "output_type": "stream",
          "name": "stdout",
          "text": [
            "/content/drive/My Drive/ALGORITMALAR_MYO\n"
          ]
        }
      ]
    },
    {
      "cell_type": "code",
      "source": [
        "degisken1 = 10\n",
        "\n",
        "Degisken2 = 20\n",
        "\n",
        "degisken_3 = 30\n",
        "\n",
        "_degisken_4 = 40\n",
        "\n",
        "print(degisken1)\n",
        "print(Degisken2)\n",
        "print(degisken_3)\n",
        "print(_degisken_4)"
      ],
      "metadata": {
        "colab": {
          "base_uri": "https://localhost:8080/"
        },
        "id": "ht-PgBsccgn6",
        "outputId": "7e591c33-1bcd-4962-bf42-38825a82bfd9"
      },
      "execution_count": null,
      "outputs": [
        {
          "output_type": "stream",
          "name": "stdout",
          "text": [
            "10\n",
            "20\n",
            "30\n",
            "40\n"
          ]
        }
      ]
    },
    {
      "cell_type": "code",
      "source": [
        "1degisken = 50\n",
        "\n",
        "degisken1-4 = 50\n"
      ],
      "metadata": {
        "colab": {
          "base_uri": "https://localhost:8080/",
          "height": 106
        },
        "id": "tbGnxZthe4DU",
        "outputId": "029af0a3-40f4-4c6a-95a4-bda92abebdc5"
      },
      "execution_count": null,
      "outputs": [
        {
          "output_type": "error",
          "ename": "SyntaxError",
          "evalue": "invalid decimal literal (<ipython-input-7-5ce2041b4914>, line 1)",
          "traceback": [
            "\u001b[0;36m  File \u001b[0;32m\"<ipython-input-7-5ce2041b4914>\"\u001b[0;36m, line \u001b[0;32m1\u001b[0m\n\u001b[0;31m    1degisken = 50\u001b[0m\n\u001b[0m    ^\u001b[0m\n\u001b[0;31mSyntaxError\u001b[0m\u001b[0;31m:\u001b[0m invalid decimal literal\n"
          ]
        }
      ]
    },
    {
      "cell_type": "code",
      "source": [
        "b = 20.5\n",
        "\n",
        "print(type(b),b)"
      ],
      "metadata": {
        "colab": {
          "base_uri": "https://localhost:8080/"
        },
        "id": "ZQ3MTIrdKQ2F",
        "outputId": "7fca53f3-222c-451f-86de-7c5dc5d2fc4c"
      },
      "execution_count": null,
      "outputs": [
        {
          "output_type": "stream",
          "name": "stdout",
          "text": [
            "<class 'float'> 20.5\n"
          ]
        }
      ]
    },
    {
      "cell_type": "code",
      "source": [
        "liste = [1, 2, 3, 4, 5]\n",
        "\n",
        "print(type(liste), liste)"
      ],
      "metadata": {
        "colab": {
          "base_uri": "https://localhost:8080/"
        },
        "id": "xyAKVKq8MH-k",
        "outputId": "59c1481f-5e3c-4305-d6da-acdab673c5e9"
      },
      "execution_count": null,
      "outputs": [
        {
          "output_type": "stream",
          "name": "stdout",
          "text": [
            "<class 'list'> [1, 2, 3, 4, 5]\n"
          ]
        }
      ]
    },
    {
      "cell_type": "code",
      "source": [
        "notlar = {\n",
        "    \"Ali\": 85,\n",
        "    \"Veli\": 90,\n",
        "    \"Ayşe\": 78\n",
        "}\n",
        "\n",
        "notlar[\"Fatma\"] = 95 # yeni öğrenci ekleme yöntemi\n",
        "notlar[\"Ali\"] = 88 # mevucttaki öğrencinin notunu günleme işlemi\n",
        "\n",
        "print(notlar)\n"
      ],
      "metadata": {
        "colab": {
          "base_uri": "https://localhost:8080/"
        },
        "id": "axbQw8RbPm5U",
        "outputId": "90d0e9fa-df16-419d-d22f-257c66c3dbb6"
      },
      "execution_count": null,
      "outputs": [
        {
          "output_type": "stream",
          "name": "stdout",
          "text": [
            "{'Ali': 88, 'Veli': 90, 'Ayşe': 78, 'Fatma': 95}\n"
          ]
        }
      ]
    },
    {
      "cell_type": "code",
      "source": [
        "print(notlar.keys())\n",
        "print(notlar.values())\n",
        "print(notlar.items())"
      ],
      "metadata": {
        "colab": {
          "base_uri": "https://localhost:8080/"
        },
        "id": "6-_YfHqKbqpI",
        "outputId": "c5669d79-6f7d-4e5d-a733-9178879c055f"
      },
      "execution_count": null,
      "outputs": [
        {
          "output_type": "stream",
          "name": "stdout",
          "text": [
            "dict_keys(['Ali', 'Veli', 'Ayşe', 'Fatma'])\n",
            "dict_values([88, 90, 78, 95])\n",
            "dict_items([('Ali', 88), ('Veli', 90), ('Ayşe', 78), ('Fatma', 95)])\n"
          ]
        }
      ]
    },
    {
      "cell_type": "code",
      "source": [
        "kodyazanlar = {\"Ahmet\", \"Mehmet\", \"Ayşe\"}\n",
        "kodyazmayanlar = {\"Ayşe\", \"Fatma\", \"Veli\"}\n",
        "\n",
        "ortak = kodyazanlar.intersection(kodyazmayanlar)\n",
        "print(\"Kafasına Göre Takılan Arkadaşlar: \", ortak)\n",
        "\n",
        "kod_yazmayanlar = kodyazmayanlar.difference(kodyazanlar)\n",
        "print(\"Kod çalışması yapmayanlar: \", kod_yazmayanlar)\n",
        "\n",
        "imzalistesi = kodyazanlar.union(kodyazmayanlar)\n",
        "print(\"Sınıf İmza Listesi: \", imzalistesi)"
      ],
      "metadata": {
        "colab": {
          "base_uri": "https://localhost:8080/"
        },
        "id": "kIjNgVxmbr1f",
        "outputId": "72674498-41b3-4577-f4c6-a2d630d02bca"
      },
      "execution_count": null,
      "outputs": [
        {
          "output_type": "stream",
          "name": "stdout",
          "text": [
            "Kafasına Göre Takılan Arkadaşlar:  {'Ayşe'}\n",
            "Kod çalışması yapmayanlar:  {'Veli', 'Fatma'}\n",
            "Sınıf İmza Listesi:  {'Ayşe', 'Mehmet', 'Fatma', 'Ahmet', 'Veli'}\n"
          ]
        }
      ]
    },
    {
      "cell_type": "code",
      "source": [
        "giris = input(\"Bir Sayı Giriniz:\")\n",
        "\n",
        "print(giris)\n"
      ],
      "metadata": {
        "colab": {
          "base_uri": "https://localhost:8080/"
        },
        "id": "grwSIqS5kJdE",
        "outputId": "1c17738e-fb2e-45ea-eb1e-2d0032f4e9b8"
      },
      "execution_count": null,
      "outputs": [
        {
          "output_type": "stream",
          "name": "stdout",
          "text": [
            "Bir Sayı Giriniz:12\n",
            "12\n"
          ]
        }
      ]
    },
    {
      "cell_type": "code",
      "source": [
        "giris = input(\"Bir Sayı Giriniz:\")\n",
        "try:\n",
        "    numara = float(giris)\n",
        "    print(\"Girilen Sayı: \", numara)\n",
        "except ValueError:\n",
        "    print(\"Hatalı Bilgi Girişi Yaptınız Lütfen Tekrar Deneyiniz!\")"
      ],
      "metadata": {
        "colab": {
          "base_uri": "https://localhost:8080/"
        },
        "id": "rk2oplhHkLJ8",
        "outputId": "36aba40d-93cb-4bbc-e814-5296581ea6e3"
      },
      "execution_count": null,
      "outputs": [
        {
          "output_type": "stream",
          "name": "stdout",
          "text": [
            "Bir Sayı Giriniz:13\n",
            "Girilen Sayı:  13.0\n"
          ]
        }
      ]
    },
    {
      "cell_type": "code",
      "source": [
        "import random\n",
        "\n",
        "rastgele = random.random() # random fonksiyonu bize 0 ile 1 arasında rastgele bir sayı üreten fonksiyondur.\n",
        "\n",
        "print(\"Rastgele Gelen Deger: \", rastgele)"
      ],
      "metadata": {
        "colab": {
          "base_uri": "https://localhost:8080/"
        },
        "id": "GOv0gPWskO3N",
        "outputId": "c755be0d-b450-4916-a669-d7eb0af05a80"
      },
      "execution_count": null,
      "outputs": [
        {
          "output_type": "stream",
          "name": "stdout",
          "text": [
            "Rastgele Gelen Deger:  0.3670063329078209\n"
          ]
        }
      ]
    },
    {
      "cell_type": "code",
      "source": [
        "import random\n",
        "\n",
        "rastgele2 = random.randint(1, 100) # randint fonksiyonu bize istediğimiz aralıkta rastgele bir sayı üreten fonksiyondur.\n",
        "\n",
        "print(\"Rastgele Gelen Deger: \", rastgele2)"
      ],
      "metadata": {
        "colab": {
          "base_uri": "https://localhost:8080/"
        },
        "id": "WOVnHsMakQD1",
        "outputId": "0a6d5bc8-bd9e-4d09-c173-816d59f47a0c"
      },
      "execution_count": null,
      "outputs": [
        {
          "output_type": "stream",
          "name": "stdout",
          "text": [
            "Rastgele Gelen Deger:  96\n"
          ]
        }
      ]
    }
  ]
}